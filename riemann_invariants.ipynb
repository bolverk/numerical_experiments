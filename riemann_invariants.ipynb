{
 "cells": [
  {
   "cell_type": "markdown",
   "metadata": {},
   "source": [
    "In this notebook I derive the [Riemann invariants](https://en.wikipedia.org/wiki/Riemann_invariant) and the trajectories along which they are conserved, for the hydrodynamic equations."
   ]
  },
  {
   "cell_type": "code",
   "execution_count": 2,
   "metadata": {
    "collapsed": true
   },
   "outputs": [],
   "source": [
    "import sympy\n",
    "sympy.init_printing()"
   ]
  },
  {
   "cell_type": "markdown",
   "metadata": {},
   "source": [
    "We begin with the governing equations for a smooth flow (without shocks) in one dimensional slab geometry. Conservation of matter"
   ]
  },
  {
   "cell_type": "code",
   "execution_count": 9,
   "metadata": {},
   "outputs": [
    {
     "data": {
      "image/png": "[encoded data removed]",
      "text/latex": [
       "$$\\frac{d}{d t} \\rho + \\frac{\\partial}{\\partial x}\\left(\\rho v\\right) = 0$$"
      ],
      "text/plain": [
       "d       ∂          \n",
       "──(ρ) + ──(ρ⋅v) = 0\n",
       "dt      ∂x         "
      ]
     },
     "execution_count": 9,
     "metadata": {},
     "output_type": "execute_result"
    }
   ],
   "source": [
    "rho = sympy.Symbol('rho') # Density\n",
    "v = sympy.Symbol('v') # Velocity\n",
    "t = sympy.Symbol('t') # Time\n",
    "x = sympy.Symbol('x') # Position\n",
    "mass_conservation = sympy.Eq(sympy.Derivative(rho,t)+sympy.Derivative(rho*v,x))\n",
    "mass_conservation"
   ]
  },
  {
   "cell_type": "markdown",
   "metadata": {},
   "source": [
    "Conservation of momentum"
   ]
  },
  {
   "cell_type": "code",
   "execution_count": 15,
   "metadata": {},
   "outputs": [
    {
     "data": {
      "image/png": "[encoded data removed]",
      "text/latex": [
       "$$v \\frac{d}{d x} v + \\frac{d}{d t} v + \\frac{1}{\\rho} \\frac{d}{d x} p = 0$$"
      ],
      "text/plain": [
       "                  d        \n",
       "                  ──(p)    \n",
       "  d       d       dx       \n",
       "v⋅──(v) + ──(v) + ───── = 0\n",
       "  dx      dt        ρ      "
      ]
     },
     "execution_count": 15,
     "metadata": {},
     "output_type": "execute_result"
    }
   ],
   "source": [
    "p = sympy.Symbol('p') # Pressure\n",
    "momentum_conservation = sympy.Eq(sympy.Derivative(v,t)+v*sympy.Derivative(v,x)+sympy.Derivative(p,x)/rho)\n",
    "momentum_conservation"
   ]
  },
  {
   "cell_type": "markdown",
   "metadata": {},
   "source": [
    "Conservation of entropy"
   ]
  },
  {
   "cell_type": "code",
   "execution_count": 16,
   "metadata": {},
   "outputs": [
    {
     "data": {
      "image/png": "[encoded data removed]",
      "text/latex": [
       "$$v \\frac{d}{d x} s + \\frac{d}{d t} s = 0$$"
      ],
      "text/plain": [
       "  d       d        \n",
       "v⋅──(s) + ──(s) = 0\n",
       "  dx      dt       "
      ]
     },
     "execution_count": 16,
     "metadata": {},
     "output_type": "execute_result"
    }
   ],
   "source": [
    "s = sympy.Symbol('s') # Entropy\n",
    "entropy_conservation = sympy.Eq(sympy.Derivative(s,t)+v*sympy.Derivative(s,x))\n",
    "entropy_conservation"
   ]
  },
  {
   "cell_type": "markdown",
   "metadata": {},
   "source": [
    "Expression for the entropy"
   ]
  },
  {
   "cell_type": "code",
   "execution_count": 14,
   "metadata": {},
   "outputs": [
    {
     "data": {
      "image/png": "[encoded data removed]",
      "text/latex": [
       "$$- \\eta \\log{\\left (\\rho \\right )} + \\log{\\left (p \\right )}$$"
      ],
      "text/plain": [
       "-η⋅log(ρ) + log(p)"
      ]
     },
     "execution_count": 14,
     "metadata": {},
     "output_type": "execute_result"
    }
   ],
   "source": [
    "eta = sympy.Symbol('eta') # Adiabatic index\n",
    "entropy_expression = sympy.log(p)-eta*sympy.log(rho)\n",
    "entropy_expression"
   ]
  },
  {
   "cell_type": "markdown",
   "metadata": {},
   "source": [
    "Matrix form of the equations"
   ]
  },
  {
   "cell_type": "code",
   "execution_count": 20,
   "metadata": {},
   "outputs": [
    {
     "data": {
      "image/png": "[encoded data removed]",
      "text/latex": [
       "$$v \\frac{\\partial}{\\partial x}\\left(- \\eta \\log{\\left (\\rho \\right )} + \\log{\\left (p \\right )}\\right) + \\frac{\\partial}{\\partial t}\\left(- \\eta \\log{\\left (\\rho \\right )} + \\log{\\left (p \\right )}\\right) = 0$$"
      ],
      "text/plain": [
       "  ∂                        ∂                         \n",
       "v⋅──(-η⋅log(ρ) + log(p)) + ──(-η⋅log(ρ) + log(p)) = 0\n",
       "  ∂x                       ∂t                        "
      ]
     },
     "execution_count": 20,
     "metadata": {},
     "output_type": "execute_result"
    }
   ],
   "source": [
    "entropy_conservation.subs(s,entropy_expression)"
   ]
  },
  {
   "cell_type": "markdown",
   "metadata": {},
   "source": [
    "Matrix form"
   ]
  },
  {
   "cell_type": "code",
   "execution_count": 41,
   "metadata": {},
   "outputs": [
    {
     "data": {
      "image/png": "[encoded data removed]",
      "text/latex": [
       "$$\\left[\\begin{matrix}v{\\left (x,t \\right )} & 0 & 0\\\\0 & v{\\left (x,t \\right )} & \\frac{1}{\\rho{\\left (x,t \\right )}}\\\\\\rho{\\left (x,t \\right )} & \\eta p{\\left (x,t \\right )} & v{\\left (x,t \\right )}\\end{matrix}\\right]$$"
      ],
      "text/plain": [
       "⎡v(x, t)      0         0   ⎤\n",
       "⎢                           ⎥\n",
       "⎢                       1   ⎥\n",
       "⎢   0      v(x, t)   ───────⎥\n",
       "⎢                    ρ(x, t)⎥\n",
       "⎢                           ⎥\n",
       "⎣ρ(x, t)  η⋅p(x, t)  v(x, t)⎦"
      ]
     },
     "execution_count": 41,
     "metadata": {},
     "output_type": "execute_result"
    }
   ],
   "source": [
    "varlist = [rho, p, v]\n",
    "temp = [mass_conservation, momentum_conservation, entropy_conservation]\n",
    "temp = [eqn.subs(s, entropy_expression) for eqn in temp]\n",
    "for vname in varlist:\n",
    "    temp = [eqn.subs(vname,vname(x,t)) for eqn in temp]\n",
    "temp = [eqn.doit() for eqn in temp]\n",
    "temp = sympy.solve(temp,[vname(x,t).diff(t) for vname in varlist])\n",
    "nhd_matrix = -sympy.Matrix([[v1(x,t).diff(t).subs(temp).coeff(v2(x,t).diff(x)) for v1 in varlist] for v2 in varlist])\n",
    "nhd_matrix"
   ]
  },
  {
   "cell_type": "markdown",
   "metadata": {},
   "source": [
    "The eigenvalues of this matrix are the velocities along which the Riemann invariants are conserved, and from the Eigenvectors it is possible to obtain a differential equations for the Riemann invariant"
   ]
  },
  {
   "cell_type": "code",
   "execution_count": 59,
   "metadata": {},
   "outputs": [
    {
     "data": {
      "image/png": "[encoded data removed]",
      "text/latex": [
       "$$\\left [ \\left ( \\frac{1}{\\rho{\\left (x,t \\right )}} \\left(- \\sqrt{\\eta p{\\left (x,t \\right )} \\rho{\\left (x,t \\right )}} + \\rho{\\left (x,t \\right )} v{\\left (x,t \\right )}\\right), \\quad 1, \\quad \\left [ \\left[\\begin{matrix}0\\\\- \\frac{1}{\\left(- \\frac{1}{\\rho{\\left (x,t \\right )}} \\left(- \\sqrt{\\eta p{\\left (x,t \\right )} \\rho{\\left (x,t \\right )}} + \\rho{\\left (x,t \\right )} v{\\left (x,t \\right )}\\right) + v{\\left (x,t \\right )}\\right) \\rho{\\left (x,t \\right )}}\\\\1\\end{matrix}\\right]\\right ]\\right ), \\quad \\left ( \\frac{1}{\\rho{\\left (x,t \\right )}} \\left(\\sqrt{\\eta p{\\left (x,t \\right )} \\rho{\\left (x,t \\right )}} + \\rho{\\left (x,t \\right )} v{\\left (x,t \\right )}\\right), \\quad 1, \\quad \\left [ \\left[\\begin{matrix}0\\\\- \\frac{1}{\\left(- \\frac{1}{\\rho{\\left (x,t \\right )}} \\left(\\sqrt{\\eta p{\\left (x,t \\right )} \\rho{\\left (x,t \\right )}} + \\rho{\\left (x,t \\right )} v{\\left (x,t \\right )}\\right) + v{\\left (x,t \\right )}\\right) \\rho{\\left (x,t \\right )}}\\\\1\\end{matrix}\\right]\\right ]\\right ), \\quad \\left ( v{\\left (x,t \\right )}, \\quad 1, \\quad \\left [ \\left[\\begin{matrix}- \\frac{\\eta p{\\left (x,t \\right )}}{\\rho{\\left (x,t \\right )}}\\\\1\\\\0\\end{matrix}\\right]\\right ]\\right )\\right ]$$"
      ],
      "text/plain": [
       "⎡⎛                                              ⎡⎡                            \n",
       "⎢⎜                                              ⎢⎢                            \n",
       "⎢⎜                                              ⎢⎢                            \n",
       "⎢⎜    ___________________                       ⎢⎢────────────────────────────\n",
       "⎢⎜- ╲╱ η⋅p(x, t)⋅ρ(x, t)  + ρ(x, t)⋅v(x, t)     ⎢⎢⎛      ___________________  \n",
       "⎢⎜─────────────────────────────────────────, 1, ⎢⎢⎜  - ╲╱ η⋅p(x, t)⋅ρ(x, t)  +\n",
       "⎢⎜                 ρ(x, t)                      ⎢⎢⎜- ─────────────────────────\n",
       "⎢⎜                                              ⎢⎢⎝                   ρ(x, t) \n",
       "⎢⎜                                              ⎢⎢                            \n",
       "⎣⎝                                              ⎣⎣                            \n",
       "\n",
       "   0                               ⎤⎤⎞  ⎛                                     \n",
       "                                   ⎥⎥⎟  ⎜                                     \n",
       "  -1                               ⎥⎥⎟  ⎜                                     \n",
       "───────────────────────────────────⎥⎥⎟  ⎜  ___________________                \n",
       "                          ⎞        ⎥⎥⎟  ⎜╲╱ η⋅p(x, t)⋅ρ(x, t)  + ρ(x, t)⋅v(x, \n",
       " ρ(x, t)⋅v(x, t)          ⎟        ⎥⎥⎟, ⎜─────────────────────────────────────\n",
       "──────────────── + v(x, t)⎟⋅ρ(x, t)⎥⎥⎟  ⎜                ρ(x, t)              \n",
       "                          ⎠        ⎥⎥⎟  ⎜                                     \n",
       "                                   ⎥⎥⎟  ⎜                                     \n",
       "   1                               ⎦⎦⎠  ⎝                                     \n",
       "\n",
       "       ⎡⎡                              0                              ⎤⎤⎞     \n",
       "       ⎢⎢                                                             ⎥⎥⎟     \n",
       "       ⎢⎢                             -1                              ⎥⎥⎟  ⎛  \n",
       "       ⎢⎢─────────────────────────────────────────────────────────────⎥⎥⎟  ⎜  \n",
       "t)     ⎢⎢⎛    ___________________                            ⎞        ⎥⎥⎟  ⎜  \n",
       "──, 1, ⎢⎢⎜  ╲╱ η⋅p(x, t)⋅ρ(x, t)  + ρ(x, t)⋅v(x, t)          ⎟        ⎥⎥⎟, ⎜v(\n",
       "       ⎢⎢⎜- ─────────────────────────────────────── + v(x, t)⎟⋅ρ(x, t)⎥⎥⎟  ⎜  \n",
       "       ⎢⎢⎝                  ρ(x, t)                          ⎠        ⎥⎥⎟  ⎜  \n",
       "       ⎢⎢                                                             ⎥⎥⎟  ⎝  \n",
       "       ⎣⎣                              1                              ⎦⎦⎠     \n",
       "\n",
       "                          ⎤\n",
       "                          ⎥\n",
       "          ⎡⎡-η⋅p(x, t) ⎤⎤⎞⎥\n",
       "          ⎢⎢───────────⎥⎥⎟⎥\n",
       "          ⎢⎢  ρ(x, t)  ⎥⎥⎟⎥\n",
       "x, t), 1, ⎢⎢           ⎥⎥⎟⎥\n",
       "          ⎢⎢     1     ⎥⎥⎟⎥\n",
       "          ⎢⎢           ⎥⎥⎟⎥\n",
       "          ⎣⎣     0     ⎦⎦⎠⎥\n",
       "                          ⎦"
      ]
     },
     "execution_count": 59,
     "metadata": {},
     "output_type": "execute_result"
    }
   ],
   "source": [
    "nhd_matrix.eigenvects()"
   ]
  },
  {
   "cell_type": "markdown",
   "metadata": {},
   "source": [
    "Let's message the first expression to a more convenient form"
   ]
  },
  {
   "cell_type": "code",
   "execution_count": 72,
   "metadata": {},
   "outputs": [
    {
     "data": {
      "image/png": "[encoded data removed]",
      "text/latex": [
       "$$dJ = - \\frac{dp}{\\sqrt{\\eta p{\\left (x,t \\right )} \\rho{\\left (x,t \\right )}}} + dv$$"
      ],
      "text/plain": [
       "                 dp              \n",
       "dJ = - ───────────────────── + dv\n",
       "         ___________________     \n",
       "       ╲╱ η⋅p(x, t)⋅ρ(x, t)      "
      ]
     },
     "execution_count": 72,
     "metadata": {},
     "output_type": "execute_result"
    }
   ],
   "source": [
    "drho = sympy.Symbol(r'd\\rho') # Difference in density\n",
    "dp = sympy.Symbol('dp') # Difference in pressure\n",
    "dv = sympy.Symbol('dv') # Difference in velocity\n",
    "dJ = sympy.Symbol('dJ') # Difference in Riemann invariant\n",
    "temp = sympy.Matrix(nhd_matrix.eigenvects()[0][2][0])\n",
    "sympy.Eq(dJ, temp.dot([drho,dp,dv]).simplify())"
   ]
  },
  {
   "cell_type": "code",
   "execution_count": null,
   "metadata": {
    "collapsed": true
   },
   "outputs": [],
   "source": []
  }
 ],
 "metadata": {
  "kernelspec": {
   "display_name": "Python 3",
   "language": "python",
   "name": "python3"
  },
  "language_info": {
   "codemirror_mode": {
    "name": "ipython",
    "version": 3
   },
   "file_extension": ".py",
   "mimetype": "text/x-python",
   "name": "python",
   "nbconvert_exporter": "python",
   "pygments_lexer": "ipython3",
   "version": "3.6.1"
  }
 },
 "nbformat": 4,
 "nbformat_minor": 2
}
