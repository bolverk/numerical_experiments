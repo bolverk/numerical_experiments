{
 "cells": [
  {
   "cell_type": "markdown",
   "metadata": {},
   "source": [
    "Let us consider a counting base n and a number with n digits. A self describing number is a number where the first digit tells you how many times the digits 0 appears in the number, the second digit the times the digit 1 appears and so on."
   ]
  },
  {
   "cell_type": "markdown",
   "metadata": {},
   "source": [
    "# Brute force solution"
   ]
  },
  {
   "cell_type": "code",
   "execution_count": 27,
   "metadata": {},
   "outputs": [
    {
     "data": {
      "text/plain": [
       "[(2, 1, 2, 0, 0)]"
      ]
     },
     "execution_count": 27,
     "metadata": {},
     "output_type": "execute_result"
    }
   ],
   "source": [
    "import numpy\n",
    "import itertools\n",
    "def bf_sdn(n):\n",
    "    res = []\n",
    "    for comb in itertools.product(range(n),repeat=n):\n",
    "        if comb[0]==0:\n",
    "            continue\n",
    "        if sum(comb)!=n:\n",
    "            continue\n",
    "        should_add = True\n",
    "        for m in range(n):\n",
    "            count = sum([1 for x in comb if x==m])\n",
    "            if count!=comb[m]:\n",
    "                should_add = False\n",
    "                continue\n",
    "        if should_add:\n",
    "            res.append(comb)\n",
    "    return res\n",
    "bf_sdn(5)"
   ]
  },
  {
   "cell_type": "code",
   "execution_count": 33,
   "metadata": {},
   "outputs": [
    {
     "data": {
      "text/plain": [
       "[(2, []),\n",
       " (3, []),\n",
       " (4, [(1, 2, 1, 0), (2, 0, 2, 0)]),\n",
       " (5, [(2, 1, 2, 0, 0)]),\n",
       " (6, []),\n",
       " (7, [(3, 2, 1, 1, 0, 0, 0)]),\n",
       " (8, [(4, 2, 1, 0, 1, 0, 0, 0)])]"
      ]
     },
     "execution_count": 33,
     "metadata": {},
     "output_type": "execute_result"
    }
   ],
   "source": [
    "[(n,bf_sdn(n)) for n in range(2,9)]"
   ]
  },
  {
   "cell_type": "markdown",
   "metadata": {},
   "source": [
    "The pattern is obvious. If $n\\ge7$, then the representation of the number would be n-4,2,1,0...0,1,0,0,0,"
   ]
  },
  {
   "cell_type": "code",
   "execution_count": null,
   "metadata": {
    "collapsed": true
   },
   "outputs": [],
   "source": []
  }
 ],
 "metadata": {
  "kernelspec": {
   "display_name": "Python 3",
   "language": "python",
   "name": "python3"
  },
  "language_info": {
   "codemirror_mode": {
    "name": "ipython",
    "version": 3
   },
   "file_extension": ".py",
   "mimetype": "text/x-python",
   "name": "python",
   "nbconvert_exporter": "python",
   "pygments_lexer": "ipython3",
   "version": "3.6.1"
  }
 },
 "nbformat": 4,
 "nbformat_minor": 2
}
