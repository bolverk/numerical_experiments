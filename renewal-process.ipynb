{
 "cells": [
  {
   "cell_type": "markdown",
   "metadata": {
    "collapsed": true
   },
   "source": [
    "In this notebook we study [renewal processes](https://en.wikipedia.org/wiki/Renewal_theory#Example_applications). Let's think about the following problem. Suppose there's a machine in a factory with a maximum lifetime $t_l$, but which can, with uniform probability, break spontaneously before that. If a machine is broken, it costs $C_s$ to fix. However, if the machine is still functional, it is possible to due cheaper maintenance work which cost $C_i$. This maintenance work \"resets\" the clock. We want to figure out the optimal strategy, i.e. how long should one wait before initiating a maintenance treatment $t_w$ to minimise expanses."
   ]
  },
  {
   "cell_type": "markdown",
   "metadata": {},
   "source": [
    "Load library and set up environment"
   ]
  },
  {
   "cell_type": "code",
   "execution_count": 1,
   "metadata": {
    "collapsed": true
   },
   "outputs": [],
   "source": [
    "import sympy\n",
    "sympy.init_printing()"
   ]
  },
  {
   "cell_type": "markdown",
   "metadata": {},
   "source": [
    "Let us consider a very long time during which the machine ran $T_e \\gg T_l$. We denote by $N_i$ the number of times the machine underwent treatment, and by $N_s$ the number of times it broke and had to be fixed. In cases when the machine does break spontaneously, it lasts, on average, for a period of $\\frac{1}{2} T_w$, hence"
   ]
  },
  {
   "cell_type": "code",
   "execution_count": 2,
   "metadata": {},
   "outputs": [
    {
     "data": {
      "image/png": "[encoded data removed]",
      "text/latex": [
       "$$T_{e} = N_{i} T_{w} + \\frac{N_{s} T_{w}}{2}$$"
      ],
      "text/plain": [
       "              Nₛ⋅T_w\n",
       "Tₑ = Nᵢ⋅T_w + ──────\n",
       "                2   "
      ]
     },
     "execution_count": 2,
     "metadata": {},
     "output_type": "execute_result"
    }
   ],
   "source": [
    "T_e = sympy.Symbol('T_e')\n",
    "N_i = sympy.Symbol('N_i')\n",
    "T_w = sympy.Symbol('T_w')\n",
    "N_s = sympy.Symbol('N_s')\n",
    "total_duration_equation = sympy.Eq(T_e, N_i*T_w+N_s*T_w/2)\n",
    "total_duration_equation"
   ]
  },
  {
   "cell_type": "markdown",
   "metadata": {},
   "source": [
    "The probability that a machine breaks spontaneously is $T_w/T_l$, and so"
   ]
  },
  {
   "cell_type": "code",
   "execution_count": 3,
   "metadata": {},
   "outputs": [
    {
     "data": {
      "image/png": "[encoded data removed]",
      "text/latex": [
       "$$\\frac{N_{s}}{N_{i} + N_{s}} = \\frac{T_{w}}{T_{l}}$$"
      ],
      "text/plain": [
       "   Nₛ     T_w\n",
       "─────── = ───\n",
       "Nᵢ + Nₛ    Tₗ"
      ]
     },
     "execution_count": 3,
     "metadata": {},
     "output_type": "execute_result"
    }
   ],
   "source": [
    "T_l = sympy.Symbol('T_l')\n",
    "failure_rate_relation = sympy.Eq(N_s/(N_i+N_s), T_w/T_l)\n",
    "failure_rate_relation"
   ]
  },
  {
   "cell_type": "code",
   "execution_count": 4,
   "metadata": {},
   "outputs": [
    {
     "data": {
      "image/png": "[encoded data removed]",
      "text/latex": [
       "$$N_{i} = \\frac{2 T_{e} \\left(T_{l} - T_{w}\\right)}{T_{w} \\left(2 T_{l} - T_{w}\\right)}$$"
      ],
      "text/plain": [
       "     2⋅Tₑ⋅(Tₗ - T_w) \n",
       "Nᵢ = ────────────────\n",
       "     T_w⋅(2⋅Tₗ - T_w)"
      ]
     },
     "execution_count": 4,
     "metadata": {},
     "output_type": "execute_result"
    }
   ],
   "source": [
    "temp = total_duration_equation\n",
    "temp = temp.subs(sympy.solve(failure_rate_relation, N_s, dict=True)[0])\n",
    "N_i_expr = sympy.solve(temp, N_i)[0]\n",
    "sympy.Eq(N_i, N_i_expr)"
   ]
  },
  {
   "cell_type": "code",
   "execution_count": 5,
   "metadata": {},
   "outputs": [
    {
     "data": {
      "image/png": "[encoded data removed]",
      "text/latex": [
       "$$\\frac{2 T_{e}}{2 T_{l} - T_{w}}$$"
      ],
      "text/plain": [
       "   2⋅Tₑ   \n",
       "──────────\n",
       "2⋅Tₗ - T_w"
      ]
     },
     "execution_count": 5,
     "metadata": {},
     "output_type": "execute_result"
    }
   ],
   "source": [
    "temp = failure_rate_relation\n",
    "temp = temp.subs(N_i, N_i_expr)\n",
    "N_s_expr = sympy.solve(temp, N_s)[0]\n",
    "N_s_expr"
   ]
  },
  {
   "cell_type": "code",
   "execution_count": 6,
   "metadata": {},
   "outputs": [
    {
     "data": {
      "image/png": "[encoded data removed]",
      "text/latex": [
       "$$C_{i} N_{i} + C_{s} N_{s}$$"
      ],
      "text/plain": [
       "Cᵢ⋅Nᵢ + Cₛ⋅Nₛ"
      ]
     },
     "execution_count": 6,
     "metadata": {},
     "output_type": "execute_result"
    }
   ],
   "source": [
    "C_i = sympy.Symbol('C_i')\n",
    "C_s = sympy.Symbol('C_s')\n",
    "cost = C_i*N_i+C_s*N_s\n",
    "cost"
   ]
  },
  {
   "cell_type": "code",
   "execution_count": 7,
   "metadata": {},
   "outputs": [
    {
     "data": {
      "image/png": "[encoded data removed]",
      "text/latex": [
       "$$\\frac{T_{l}}{C_{i} - C_{s}} \\left(C_{i} - \\sqrt{C_{i} \\left(- C_{i} + 2 C_{s}\\right)}\\right)$$"
      ],
      "text/plain": [
       "   ⎛       _________________⎞\n",
       "Tₗ⋅⎝Cᵢ - ╲╱ Cᵢ⋅(-Cᵢ + 2⋅Cₛ) ⎠\n",
       "─────────────────────────────\n",
       "           Cᵢ - Cₛ           "
      ]
     },
     "execution_count": 7,
     "metadata": {},
     "output_type": "execute_result"
    }
   ],
   "source": [
    "temp = cost\n",
    "temp = temp.subs(N_i, N_i_expr)\n",
    "temp = temp.subs(N_s, N_s_expr)\n",
    "temp = sympy.solve(temp.diff(T_w).simplify(), T_w)[0]\n",
    "optimal_T_w = temp\n",
    "optimal_T_w"
   ]
  },
  {
   "cell_type": "markdown",
   "metadata": {},
   "source": [
    "and the corresponding price is"
   ]
  },
  {
   "cell_type": "code",
   "execution_count": 12,
   "metadata": {},
   "outputs": [
    {
     "data": {
      "image/png": "[encoded data removed]",
      "text/latex": [
       "$$\\frac{T_{e} \\sqrt{C_{i} \\left(- C_{i} + 2 C_{s}\\right)} \\left(C_{i}^{2} - 2 C_{i} C_{s} + C_{s}^{2}\\right)}{T_{l} \\left(C_{i}^{2} - 2 C_{i} C_{s} + C_{s} \\sqrt{C_{i} \\left(- C_{i} + 2 C_{s}\\right)}\\right)}$$"
      ],
      "text/plain": [
       "     _________________ ⎛  2               2⎞\n",
       "Tₑ⋅╲╱ Cᵢ⋅(-Cᵢ + 2⋅Cₛ) ⋅⎝Cᵢ  - 2⋅Cᵢ⋅Cₛ + Cₛ ⎠\n",
       "────────────────────────────────────────────\n",
       "   ⎛  2                  _________________⎞ \n",
       "Tₗ⋅⎝Cᵢ  - 2⋅Cᵢ⋅Cₛ + Cₛ⋅╲╱ Cᵢ⋅(-Cᵢ + 2⋅Cₛ) ⎠ "
      ]
     },
     "execution_count": 12,
     "metadata": {},
     "output_type": "execute_result"
    }
   ],
   "source": [
    "temp = cost\n",
    "temp = temp.subs(N_i, N_i_expr)\n",
    "temp = temp.subs(N_s, N_s_expr)\n",
    "temp = temp.subs(T_w, optimal_T_w)\n",
    "optimal_price = temp.simplify()\n",
    "optimal_price"
   ]
  },
  {
   "cell_type": "markdown",
   "metadata": {},
   "source": [
    "In the limit $C_s \\gg C_i$, the optimal $T_w$ reduces to"
   ]
  },
  {
   "cell_type": "code",
   "execution_count": 8,
   "metadata": {},
   "outputs": [
    {
     "data": {
      "image/png": "[encoded data removed]",
      "text/latex": [
       "$$\\frac{\\sqrt{2} T_{l}}{\\sqrt{C_{s}}} \\sqrt{C_{i}} + \\mathcal{O}\\left(C_{i}\\right)$$"
      ],
      "text/plain": [
       "     ____           \n",
       "√2⋅╲╱ Cᵢ ⋅Tₗ        \n",
       "──────────── + O(Cᵢ)\n",
       "     ____           \n",
       "   ╲╱ Cₛ            "
      ]
     },
     "execution_count": 8,
     "metadata": {},
     "output_type": "execute_result"
    }
   ],
   "source": [
    "optimal_T_w.series(C_i,0,1)"
   ]
  },
  {
   "cell_type": "markdown",
   "metadata": {},
   "source": [
    "and the optimal price reduces to"
   ]
  },
  {
   "cell_type": "code",
   "execution_count": 14,
   "metadata": {},
   "outputs": [
    {
     "data": {
      "image/png": "[encoded data removed]",
      "text/latex": [
       "$$\\frac{C_{s} T_{e}}{T_{l}} + \\frac{\\sqrt{2} T_{e}}{T_{l}} \\sqrt{C_{i}} \\sqrt{C_{s}} + \\mathcal{O}\\left(C_{i}\\right)$$"
      ],
      "text/plain": [
       "             ____   ____           \n",
       "Cₛ⋅Tₑ   √2⋅╲╱ Cᵢ ⋅╲╱ Cₛ ⋅Tₑ        \n",
       "───── + ─────────────────── + O(Cᵢ)\n",
       "  Tₗ             Tₗ                "
      ]
     },
     "execution_count": 14,
     "metadata": {},
     "output_type": "execute_result"
    }
   ],
   "source": [
    "optimal_price.series(C_i,0,1)"
   ]
  },
  {
   "cell_type": "markdown",
   "metadata": {},
   "source": [
    "Compared with the price of total neglect"
   ]
  },
  {
   "cell_type": "code",
   "execution_count": 15,
   "metadata": {},
   "outputs": [
    {
     "data": {
      "image/png": "[encoded data removed]",
      "text/latex": [
       "$$\\frac{2 C_{s}}{T_{l}} T_{e}$$"
      ],
      "text/plain": [
       "2⋅Cₛ⋅Tₑ\n",
       "───────\n",
       "   Tₗ  "
      ]
     },
     "execution_count": 15,
     "metadata": {},
     "output_type": "execute_result"
    }
   ],
   "source": [
    "2*C_s*T_e/T_l"
   ]
  },
  {
   "cell_type": "markdown",
   "metadata": {
    "collapsed": true
   },
   "source": [
    "Let's try to understand this result more intuitively. The total cost of maintenance scales as $T_w^{-1}$. The total cost of repair, to first order, does not depend on $T_w$. This is because the probability that a machine will break down during $T_w$ scales as $T_w$, but the number of opportunities to break down increases as $T_w^{-1}$ so the total number of times the machine breaks down does not change. For this reason, when it comes to the cost due to breakdown, we have to consider second order effects. These second order effects introduce a correction to the total repair cost which scales as $T_w/T_l$."
   ]
  },
  {
   "cell_type": "markdown",
   "metadata": {},
   "source": [
    "Another interesting insight is that if the machines break down according to the Poisson statistics, then it makes no sense to due maintenance work."
   ]
  },
  {
   "cell_type": "code",
   "execution_count": null,
   "metadata": {
    "collapsed": true
   },
   "outputs": [],
   "source": []
  }
 ],
 "metadata": {
  "kernelspec": {
   "display_name": "Python 3",
   "language": "python",
   "name": "python3"
  },
  "language_info": {
   "codemirror_mode": {
    "name": "ipython",
    "version": 3
   },
   "file_extension": ".py",
   "mimetype": "text/x-python",
   "name": "python",
   "nbconvert_exporter": "python",
   "pygments_lexer": "ipython3",
   "version": "3.6.1"
  }
 },
 "nbformat": 4,
 "nbformat_minor": 2
}
